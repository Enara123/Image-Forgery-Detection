{
 "cells": [
  {
   "cell_type": "code",
   "execution_count": null,
   "id": "43ba1bf7",
   "metadata": {},
   "outputs": [],
   "source": [
    "import os\n",
    "import cv2\n",
    "\n",
    "# Function to load images and labels from a directory\n",
    "def load_images(folder, label, img_size=(128,128)):\n",
    "    images = []\n",
    "    labels = []\n",
    "    for filename in os.listdir(folder):\n",
    "        img_path = os.path.join(folder, filename)\n",
    "        img = cv2.imread(img_path)\n",
    "        if img is not None:\n",
    "            img = cv2.resize(img, img_size)\n",
    "            images.append(img)\n",
    "            labels.append(label)\n",
    "    return images, labels\n",
    "\n",
    "# Load forged and original images\n",
    "forged_images, forged_labels = load_images('dataset/forged', 1)\n",
    "original_images, original_labels = load_images('dataset/original', 0)\n",
    "\n",
    "# Combine both\n",
    "images = forged_images + original_images\n",
    "labels = forged_labels + original_labels\n"
   ]
  },
  {
   "cell_type": "code",
   "execution_count": null,
   "id": "5a19d8be",
   "metadata": {},
   "outputs": [],
   "source": [
    "import numpy as np\n",
    "\n",
    "# Feature extraction function\n",
    "def extract_features(img):\n",
    "    # Convert to grayscale\n",
    "    gray = cv2.cvtColor(img, cv2.COLOR_BGR2GRAY)\n",
    "    \n",
    "    # 1. Edge feature\n",
    "    edges = cv2.Canny(gray, 100, 200)\n",
    "    edge_count = np.sum(edges > 0)\n",
    "    \n",
    "    # 2. Histogram feature (16 bins)\n",
    "    hist = cv2.calcHist([gray], [0], None, [16], [0,256])\n",
    "    hist = hist.flatten() / hist.sum()  # normalize\n",
    "    \n",
    "    # Combine all features into a single vector\n",
    "    features = np.hstack([edge_count, hist])\n",
    "    return features\n"
   ]
  },
  {
   "cell_type": "code",
   "execution_count": null,
   "id": "a3d20bbc",
   "metadata": {},
   "outputs": [
    {
     "name": "stdout",
     "output_type": "stream",
     "text": [
      "Feature matrix shape: (363, 17)\n",
      "Labels shape: (363,)\n"
     ]
    }
   ],
   "source": [
    "# Extract features for all images\n",
    "X = np.array([extract_features(img) for img in images])\n",
    "y = np.array(labels)\n",
    "\n",
    "print(\"Feature matrix shape:\", X.shape)\n",
    "print(\"Labels shape:\", y.shape)\n"
   ]
  },
  {
   "cell_type": "code",
   "execution_count": 6,
   "id": "61c21636",
   "metadata": {},
   "outputs": [
    {
     "name": "stdout",
     "output_type": "stream",
     "text": [
      "Training set size: 290\n",
      "Testing set size: 73\n"
     ]
    }
   ],
   "source": [
    "from sklearn.model_selection import train_test_split\n",
    "\n",
    "# Split features and labels\n",
    "X_train, X_test, y_train, y_test = train_test_split(\n",
    "    X, y, test_size=0.2, random_state=42\n",
    ")\n",
    "\n",
    "print(\"Training set size:\", X_train.shape[0])\n",
    "print(\"Testing set size:\", X_test.shape[0])\n"
   ]
  },
  {
   "cell_type": "code",
   "execution_count": null,
   "id": "8ac08591",
   "metadata": {},
   "outputs": [
    {
     "name": "stdout",
     "output_type": "stream",
     "text": [
      "Model training complete!\n"
     ]
    }
   ],
   "source": [
    "from sklearn.ensemble import RandomForestClassifier\n",
    "\n",
    "# Create Random Forest classifier\n",
    "clf = RandomForestClassifier(n_estimators=100, random_state=42)\n",
    "\n",
    "# Train\n",
    "clf.fit(X_train, y_train)\n",
    "\n",
    "print(\"Model training complete!\")\n"
   ]
  },
  {
   "cell_type": "code",
   "execution_count": null,
   "id": "9aade79f",
   "metadata": {},
   "outputs": [
    {
     "name": "stdout",
     "output_type": "stream",
     "text": [
      "Test Accuracy: 0.726027397260274\n",
      "\n",
      "Classification Report:\n",
      "               precision    recall  f1-score   support\n",
      "\n",
      "           0       0.71      0.67      0.69        33\n",
      "           1       0.74      0.78      0.76        40\n",
      "\n",
      "    accuracy                           0.73        73\n",
      "   macro avg       0.72      0.72      0.72        73\n",
      "weighted avg       0.73      0.73      0.73        73\n",
      "\n",
      "Model saved as forgery_model.pkl\n"
     ]
    }
   ],
   "source": [
    "from sklearn.metrics import accuracy_score, classification_report\n",
    "import joblib\n",
    "\n",
    "# Predict on test set\n",
    "y_pred = clf.predict(X_test)\n",
    "\n",
    "# Accuracy\n",
    "accuracy = accuracy_score(y_test, y_pred)\n",
    "print(\"Test Accuracy:\", accuracy)\n",
    "\n",
    "# Detailed report\n",
    "print(\"\\nClassification Report:\\n\", classification_report(y_test, y_pred))\n",
    "\n",
    "# Save the model\n",
    "joblib.dump(clf, \"forgery_model.pkl\")\n",
    "print(\"Model saved as forgery_model.pkl\")\n"
   ]
  },
  {
   "cell_type": "code",
   "execution_count": null,
   "id": "fbe03d87",
   "metadata": {},
   "outputs": [
    {
     "name": "stdout",
     "output_type": "stream",
     "text": [
      "Prediction for 'dataset/test_image.png': Forged\n"
     ]
    }
   ],
   "source": [
    "# Predict Test Image\n",
    "\n",
    "def predict_image(img_path):\n",
    "    # Load image\n",
    "    img = cv2.imread(img_path)\n",
    "    if img is None:\n",
    "        print(\"Image not found:\", img_path)\n",
    "        return\n",
    "    \n",
    "    # Resize to match training size\n",
    "    img = cv2.resize(img, (128,128))\n",
    "    \n",
    "    # Extract features\n",
    "    feat = extract_features(img)\n",
    "    \n",
    "    # Predict\n",
    "    pred = clf.predict([feat])[0]\n",
    "    label = \"Forged\" if pred == 1 else \"Original\"\n",
    "    \n",
    "    print(f\"Prediction for '{img_path}': {label}\")\n",
    "    \n",
    "    # Show image\n",
    "    cv2.imshow(\"Test Image\", img)\n",
    "    cv2.waitKey(0)\n",
    "    cv2.destroyAllWindows()\n",
    "\n",
    "# Test Image usage\n",
    "predict_image('dataset/test_image.png')\n"
   ]
  },
  {
   "cell_type": "code",
   "execution_count": null,
   "id": "24b23504",
   "metadata": {},
   "outputs": [
    {
     "name": "stdout",
     "output_type": "stream",
     "text": [
      "Confusion Matrix:\n",
      " [[22 11]\n",
      " [ 9 31]]\n"
     ]
    },
    {
     "data": {
      "image/png": "[encoded data removed]",
      "text/plain": [
       "<Figure size 600x500 with 2 Axes>"
      ]
     },
     "metadata": {},
     "output_type": "display_data"
    }
   ],
   "source": [
    "from sklearn.metrics import confusion_matrix\n",
    "import matplotlib.pyplot as plt\n",
    "import seaborn as sns\n",
    "\n",
    "# Build confusion matrix\n",
    "cm = confusion_matrix(y_test, y_pred)\n",
    "print(\"Confusion Matrix:\\n\", cm)\n",
    "\n",
    "# Create a heatmap\n",
    "plt.figure(figsize=(6,5))\n",
    "sns.heatmap(cm, annot=True, fmt='d', cmap='Blues', xticklabels=['Original','Forged'], yticklabels=['Original','Forged'])\n",
    "plt.ylabel('Actual')\n",
    "plt.xlabel('Predicted')\n",
    "plt.title('Confusion Matrix')\n",
    "plt.show()\n"
   ]
  }
 ],
 "metadata": {
  "kernelspec": {
   "display_name": "NEW",
   "language": "python",
   "name": "python3"
  },
  "language_info": {
   "codemirror_mode": {
    "name": "ipython",
    "version": 3
   },
   "file_extension": ".py",
   "mimetype": "text/x-python",
   "name": "python",
   "nbconvert_exporter": "python",
   "pygments_lexer": "ipython3",
   "version": "3.11.9"
  }
 },
 "nbformat": 4,
 "nbformat_minor": 5
}
